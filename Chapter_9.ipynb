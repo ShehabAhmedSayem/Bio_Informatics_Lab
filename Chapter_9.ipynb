{
 "cells": [
  {
   "cell_type": "markdown",
   "metadata": {},
   "source": [
    "# BA9A"
   ]
  },
  {
   "cell_type": "code",
   "execution_count": 1,
   "metadata": {},
   "outputs": [
    {
     "name": "stdout",
     "output_type": "stream",
     "text": [
      "ATAGA ATC GAT\n",
      "0->1:A\n",
      "1->2:T\n",
      "2->3:A\n",
      "3->4:G\n",
      "4->5:A\n",
      "2->6:C\n",
      "0->7:G\n",
      "7->8:A\n",
      "8->9:T\n"
     ]
    }
   ],
   "source": [
    "def trieConstruction(patterns):\n",
    "    myDict = {}\n",
    "    myDict['A'] = 0\n",
    "    myDict['C'] = 1\n",
    "    myDict['G'] = 2\n",
    "    myDict['T'] = 3\n",
    "    \n",
    "    trie = [[-1 for j in range(4)]]\n",
    "    last = 0\n",
    "    \n",
    "    for pattern in patterns:\n",
    "        current = 0\n",
    "        for ch in pattern:\n",
    "            \n",
    "            if trie[current][myDict[ch]] != -1: \n",
    "                current = trie[current][myDict[ch]]\n",
    "            else:\n",
    "                last += 1\n",
    "                print(str(current) + '->' + str(last) + ':' + ch)\n",
    "                temp = [-1 for j in range(4)]\n",
    "                trie.append(temp)\n",
    "                trie[current][myDict[ch]] = last \n",
    "                current = last\n",
    "\n",
    "str_input = input()\n",
    "\n",
    "patterns = []\n",
    "for i in str_input.split():\n",
    "    patterns.append(i)\n",
    "        \n",
    "trieConstruction(patterns)\n"
   ]
  },
  {
   "cell_type": "markdown",
   "metadata": {},
   "source": [
    "# BA9B"
   ]
  },
  {
   "cell_type": "code",
   "execution_count": 2,
   "metadata": {},
   "outputs": [
    {
     "name": "stdout",
     "output_type": "stream",
     "text": [
      "AATCGGGTTCAATCGGGGT\n",
      "ATCG\n",
      "GGGT\n",
      "\n",
      "1 4 11 15 "
     ]
    }
   ],
   "source": [
    "text = input()\n",
    "ara = []\n",
    "l = len(text)\n",
    "while(1):\n",
    "    st = input()\n",
    "    if len(st)==0:\n",
    "        break\n",
    "    pos = 0\n",
    "    \n",
    "    while(pos<l):\n",
    "        pos = text.find(st,pos)\n",
    "        if pos == -1:\n",
    "            break\n",
    "        else :\n",
    "            ara.append(pos)\n",
    "            pos = pos + 1\n",
    "        \n",
    "ara.sort()\n",
    "for i in ara:\n",
    "    print(i,end=\" \")\n",
    "\n",
    "\n"
   ]
  },
  {
   "cell_type": "markdown",
   "metadata": {},
   "source": [
    "# BA9I"
   ]
  },
  {
   "cell_type": "code",
   "execution_count": 3,
   "metadata": {},
   "outputs": [
    {
     "name": "stdout",
     "output_type": "stream",
     "text": [
      "GCGTGCCTGGTCA$\n",
      "ACTGGCT$TGCGGC\n"
     ]
    }
   ],
   "source": [
    "str_input = input()\n",
    "\n",
    "l = len(str_input)\n",
    "\n",
    "str_input = str_input + str_input\n",
    "\n",
    "a = []\n",
    "\n",
    "for i in range(0,l):\n",
    "    a.append(str_input[i:i+l])\n",
    "a.sort()\n",
    "\n",
    "la = len(a)\n",
    "ans = \"\"\n",
    "for i in range(0,la):\n",
    "    ans = ans + a[i][l-1]\n",
    "print(ans)\n",
    "\n",
    "\n",
    "\n"
   ]
  },
  {
   "cell_type": "markdown",
   "metadata": {},
   "source": [
    "# BA9J"
   ]
  },
  {
   "cell_type": "code",
   "execution_count": 5,
   "metadata": {
    "scrolled": true
   },
   "outputs": [
    {
     "name": "stdout",
     "output_type": "stream",
     "text": [
      "TTCCTAACG$A\n",
      "TACATCACGT$\n"
     ]
    }
   ],
   "source": [
    "str_input = input()\n",
    "\n",
    "l = len(str_input)\n",
    "\n",
    "last = []\n",
    "\n",
    "for i in range(0,l):\n",
    "    last.append(str_input[i])\n",
    "\n",
    "\n",
    "First = sorted(last)\n",
    "#print(last,First)\n",
    "a =[]\n",
    "\n",
    "a = First\n",
    "for i in range(0,l-1):\n",
    "    temp = []\n",
    "    for j in range(0,l):\n",
    "        \n",
    "        temp.append(\"\"+last[j]+a[j])\n",
    "    \n",
    "    #print(temp)\n",
    "    temp.sort()\n",
    "    \n",
    "    a = temp\n",
    "    \n",
    "s = a[0]\n",
    "s = s[1:len(s)] + s[0]\n",
    "\n",
    "print(s)\n",
    "\n"
   ]
  },
  {
   "cell_type": "markdown",
   "metadata": {},
   "source": [
    "# BA9K"
   ]
  },
  {
   "cell_type": "code",
   "execution_count": 6,
   "metadata": {},
   "outputs": [
    {
     "name": "stdout",
     "output_type": "stream",
     "text": [
      "T$GACCA\n",
      "3\n",
      "1\n"
     ]
    }
   ],
   "source": [
    "str_input = input()\n",
    "k = int(input())\n",
    "l = len(str_input)\n",
    "\n",
    "last = []\n",
    "\n",
    "ch = str_input[k]\n",
    "dic = {\n",
    "    'A':0,\n",
    "    'C':0,\n",
    "    'G':0,\n",
    "    'T':0,\n",
    "    '$':0\n",
    "}\n",
    "for i in range(0,l):\n",
    "    dic[str_input[i]] += 1 \n",
    "    last.append(str_input[i])\n",
    "    if i == k:\n",
    "        k = dic[str_input[i]]\n",
    "\n",
    "\n",
    "\n",
    "first = sorted(last)\n",
    "\n",
    "# print(first,last)\n",
    "# print(dic)\n",
    "count = 0\n",
    "\n",
    "#print(\"->\",ch,k)\n",
    "\n",
    "for i in range(0,l):\n",
    "    if first[i]==ch:\n",
    "        count += 1\n",
    "    if count == k:\n",
    "        print(i)\n",
    "        break\n",
    "\n"
   ]
  },
  {
   "cell_type": "markdown",
   "metadata": {},
   "source": [
    "# BA9L"
   ]
  },
  {
   "cell_type": "code",
   "execution_count": 8,
   "metadata": {},
   "outputs": [
    {
     "name": "stdout",
     "output_type": "stream",
     "text": [
      "TCCTCTATGAGATCCTATTCTATGAAACCTTCA$GACCAAAATTCTCCGGC\n",
      "CCT CAC GAG CAG ATC\n",
      "2 1 1 0 1 "
     ]
    }
   ],
   "source": [
    "st = input()\n",
    "\n",
    "l = len(st)\n",
    "\n",
    "last = []\n",
    "\n",
    "for i in range(0,l):\n",
    "    last.append(st[i])\n",
    "\n",
    "\n",
    "First = sorted(last)\n",
    "#print(last,First)\n",
    "ara =[]\n",
    "\n",
    "ara = First\n",
    "for i in range(0,l-1):\n",
    "    temp = []\n",
    "    for j in range(0,l):\n",
    "        #print(last[j],ara[j])\n",
    "        temp.append(\"\"+last[j]+ara[j])\n",
    "    \n",
    "    #print(temp)\n",
    "    temp.sort()\n",
    "    \n",
    "    ara = temp\n",
    "    #print(\"->\",ara)\n",
    "st = ara[0]\n",
    "st = st[1:len(st)]+st[0]\n",
    "\n",
    "#print(st)\n",
    "\n",
    "ara =[]\n",
    "st1 = input()\n",
    "\n",
    "l = len(st1)\n",
    "\n",
    "z = \"\"\n",
    "for i in range(0,l):\n",
    "    if st1[i]==' ':\n",
    "        ara.append(z)\n",
    "        z = \"\"\n",
    "        continue\n",
    "    if st1[i]>='A' and st1[i]<='Z':\n",
    "        z = z + st1[i]\n",
    "    if i==l-1:\n",
    "        ara.append(z)\n",
    "        continue\n",
    "l1 = len(ara)\n",
    "l = len(st)\n",
    "for i in range(0,l1):\n",
    "    pattern = ara[i]\n",
    "    pos = 0\n",
    "    count = 0\n",
    "    while(pos<l):\n",
    "        pos = st.find(pattern,pos)\n",
    "        if pos == -1:\n",
    "            break\n",
    "        else :\n",
    "            pos = pos + 1\n",
    "            count = count + 1\n",
    "    print(count,end=\" \")\n",
    "\n",
    "\n"
   ]
  },
  {
   "cell_type": "markdown",
   "metadata": {},
   "source": [
    "# BA9M"
   ]
  },
  {
   "cell_type": "code",
   "execution_count": 10,
   "metadata": {},
   "outputs": [
    {
     "name": "stdout",
     "output_type": "stream",
     "text": [
      "GGCGCCGC$TAGTCACACACGCCGTA\n",
      "ACC CCG CAG\n",
      "1 2 1 "
     ]
    }
   ],
   "source": [
    "from collections import namedtuple\n",
    "MyStruct = namedtuple(\"MyStruct\", \"field1 field2\")\n",
    "\n",
    "st = input()\n",
    "\n",
    "ara = []\n",
    "\n",
    "Last = []\n",
    "First = []\n",
    "\n",
    "X = []\n",
    "\n",
    "l = len(st)\n",
    "dic = {\n",
    "    'A':0,\n",
    "    'C':0,\n",
    "    'G':0,\n",
    "    'T':0,\n",
    "    '$':0\n",
    "}\n",
    "\n",
    "for i in range(0,l):\n",
    "    dic[st[i]] += 1 \n",
    "    m = MyStruct(st[i],dic[st[i]])\n",
    "    X.append(st[i])\n",
    "    Last.append(m)\n",
    "\n",
    "X.sort()\n",
    "\n",
    "dic = {\n",
    "    'A':0,\n",
    "    'C':0,\n",
    "    'G':0,\n",
    "    'T':0,\n",
    "    '$':0\n",
    "}\n",
    "\n",
    "for i in range(0,l):\n",
    "    dic[X[i]] += 1 \n",
    "    #print(X[i],end=\"\")\n",
    "    m = MyStruct(X[i],dic[X[i]])\n",
    "    First.append(m)\n",
    "#print()\n",
    "\n",
    "st1 = input()\n",
    "\n",
    "l = len(st1)\n",
    "\n",
    "z = \"\"\n",
    "for i in range(0,l):\n",
    "    if st1[i]==' ':\n",
    "        ara.append(z)\n",
    "        z = \"\"\n",
    "        continue\n",
    "    if st1[i]>='A' and st1[i]<='Z':\n",
    "        z = z + st1[i]\n",
    "    if i==l-1:\n",
    "        ara.append(z)\n",
    "        continue\n",
    "    \n",
    "#print(ara)\n",
    "\n",
    "def find_pos (ck):\n",
    "    l = len(First)\n",
    "    x = []\n",
    "    for i in range(0,l):\n",
    "        \n",
    "        if First[i].field1==ck:\n",
    "            x.append(i)\n",
    "    return x\n",
    "    \n",
    "\n",
    "l1 = len(ara)\n",
    "for n in range(0,l1):\n",
    "    pattern = ara[n]\n",
    "    l2 = len(pattern)\n",
    "    \n",
    "    j = 1\n",
    "    ch = pattern[l2-1]\n",
    "    x = find_pos(ch)\n",
    "    while(1):\n",
    "        #print(x)\n",
    "        if j==l2:\n",
    "            print(len(x),end=\" \")\n",
    "            break\n",
    "        y = []\n",
    "        for i in x:\n",
    "            if Last[i].field1==pattern[l2-j-1]:\n",
    "                #print(pattern[l2-j-1])\n",
    "                y.append(Last[i])\n",
    "        #print(\"->\",y)\n",
    "        x = []\n",
    "        for i in y:\n",
    "            if i in First:\n",
    "                x.append(First.index(i))\n",
    "                #print(First[First.index(i)])\n",
    "        j = j + 1\n",
    "        \n",
    "\n",
    "\n"
   ]
  },
  {
   "cell_type": "markdown",
   "metadata": {},
   "source": [
    "# BA9N"
   ]
  },
  {
   "cell_type": "code",
   "execution_count": 12,
   "metadata": {},
   "outputs": [
    {
     "name": "stdout",
     "output_type": "stream",
     "text": [
      "AATCGGGTTCAATCGGGGT\n",
      "ATCG GGGT\n",
      "1 4 11 15 "
     ]
    }
   ],
   "source": [
    "st = input()\n",
    "\n",
    "ara = []\n",
    "\n",
    "st1 = input()\n",
    "\n",
    "l = len(st1)\n",
    "\n",
    "z = \"\"\n",
    "for i in range(0,l):\n",
    "    if st1[i]==' ':\n",
    "        ara.append(z)\n",
    "        z = \"\"\n",
    "        continue\n",
    "    if st1[i]>='A' and st1[i]<='Z':\n",
    "        z = z + st1[i]\n",
    "    if i==l-1:\n",
    "        ara.append(z)\n",
    "        continue\n",
    "    \n",
    "#print(ara)\n",
    "l1 = len(ara)\n",
    "l = len(st)\n",
    "ans = []\n",
    "for n in range(0,l1):\n",
    "    pattern = ara[n]\n",
    "    \n",
    "    pos = 0\n",
    "    while(pos<l):\n",
    "        pos = st.find(pattern,pos)\n",
    "        if pos > -1:\n",
    "            ans.append(pos)\n",
    "            pos = pos + 1\n",
    "        else :\n",
    "            break\n",
    "ans.sort()\n",
    "for i in ans:\n",
    "    print(i,end=\" \")   \n",
    "    \n"
   ]
  },
  {
   "cell_type": "code",
   "execution_count": null,
   "metadata": {},
   "outputs": [],
   "source": []
  }
 ],
 "metadata": {
  "kernelspec": {
   "display_name": "Python [default]",
   "language": "python",
   "name": "python3"
  },
  "language_info": {
   "codemirror_mode": {
    "name": "ipython",
    "version": 3
   },
   "file_extension": ".py",
   "mimetype": "text/x-python",
   "name": "python",
   "nbconvert_exporter": "python",
   "pygments_lexer": "ipython3",
   "version": "3.6.4"
  }
 },
 "nbformat": 4,
 "nbformat_minor": 2
}
