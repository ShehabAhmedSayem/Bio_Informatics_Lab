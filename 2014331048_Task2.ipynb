{
 "cells": [
  {
   "cell_type": "markdown",
   "metadata": {},
   "source": [
    "# Subtask 1"
   ]
  },
  {
   "cell_type": "code",
   "execution_count": 1,
   "metadata": {},
   "outputs": [
    {
     "name": "stdout",
     "output_type": "stream",
     "text": [
      "AAAACCCGGT\n",
      "ACCGGGTTTT\n"
     ]
    }
   ],
   "source": [
    "def reverseComplement(string):\n",
    "    reverse = list(string[::-1])\n",
    "    reverse_complement = ''\n",
    "    for i in range(len(reverse)):\n",
    "        if reverse[i] == 'A':\n",
    "            reverse_complement += 'T'\n",
    "        elif reverse[i] == 'T':\n",
    "            reverse_complement += 'A'\n",
    "        elif reverse[i] == 'G':\n",
    "            reverse_complement += 'C'\n",
    "        elif reverse[i] == 'C':\n",
    "            reverse_complement += 'G'\n",
    "    return reverse_complement\n",
    "\n",
    "string = input()\n",
    "print(reverseComplement(string))"
   ]
  },
  {
   "cell_type": "markdown",
   "metadata": {},
   "source": [
    "# Subtask 2"
   ]
  },
  {
   "cell_type": "code",
   "execution_count": 2,
   "metadata": {},
   "outputs": [
    {
     "name": "stdout",
     "output_type": "stream",
     "text": [
      "GGGCCGTTGGT\n",
      "GGACCGTTGAC\n",
      "3\n"
     ]
    }
   ],
   "source": [
    "def hammingDistance(string1, string2):\n",
    "    list1 = list(string1)\n",
    "    list2 = list(string2)\n",
    "    distance = 0\n",
    "    for i in range(len(list1)):\n",
    "        if list1[i] != list2[i]:\n",
    "            distance+=1\n",
    "    return distance\n",
    "\n",
    "string1 = input()\n",
    "string2 = input()\n",
    "\n",
    "print(hammingDistance(string1, string2))"
   ]
  },
  {
   "cell_type": "markdown",
   "metadata": {},
   "source": [
    "# Subtask 3"
   ]
  },
  {
   "cell_type": "code",
   "execution_count": 3,
   "metadata": {},
   "outputs": [
    {
     "name": "stdout",
     "output_type": "stream",
     "text": [
      "ATTCTGGA\n",
      "CGCCCGAATCCAGAACGCATTCCCATATTTCGGGACCACTGGCCTCCACGGTACGGACGTCAATCAAATGCCTAGCGGCTTGTGGTTTCTCCTACGCTCC\n",
      "3\n",
      "[6, 7, 26, 27, 78]\n"
     ]
    }
   ],
   "source": [
    "def approximatePattern(pattern, text, distance):\n",
    "    text = list(text)\n",
    "    pattern = list(pattern)\n",
    "    pattern_length = len(pattern)\n",
    "    output = []\n",
    "    \n",
    "    for i in range(len(text)-pattern_length):\n",
    "        string1 = text[i:i+pattern_length]\n",
    "        if hammingDistance(string1, pattern) <= distance:\n",
    "            output.append(i)\n",
    "    return output\n",
    "\n",
    "pattern = input()\n",
    "text = input()\n",
    "distance = int(input())\n",
    "\n",
    "print(approximatePattern(pattern, text, distance))"
   ]
  },
  {
   "cell_type": "markdown",
   "metadata": {},
   "source": [
    "# Subtask 4"
   ]
  },
  {
   "cell_type": "code",
   "execution_count": 4,
   "metadata": {},
   "outputs": [
    {
     "name": "stdout",
     "output_type": "stream",
     "text": [
      "ACGTTGCATGTCGCATGATGCATGAGAGCT\n",
      "4\n",
      "1\n",
      "['ATGC', 'ATGT', 'GATG']\n"
     ]
    }
   ],
   "source": [
    "import itertools\n",
    "\n",
    "def frequentWordsWithMismatch(text, k, d):\n",
    "    x = ['A', 'C', 'G', 'T']\n",
    "    pattern_dict = {p: 0 for p in itertools.product(x, repeat=k)}\n",
    "    #len(pattern_dict)\n",
    "    max_occur = 0\n",
    "\n",
    "    for p in pattern_dict.keys():\n",
    "        pattern_dict[p] = len(approximatePattern(p, text, d))\n",
    "        if pattern_dict[p] > max_occur:\n",
    "            max_occur = pattern_dict[p]\n",
    "\n",
    "    output = []\n",
    "    for p in pattern_dict.keys():\n",
    "        if pattern_dict[p] == max_occur:\n",
    "            output.append(''.join(p))\n",
    "    return output\n",
    "\n",
    "text = input()\n",
    "k = int(input())\n",
    "d = int(input())\n",
    "\n",
    "\n",
    "print(frequentWordsWithMismatch(text, k, d))\n"
   ]
  },
  {
   "cell_type": "markdown",
   "metadata": {},
   "source": [
    "# Subtask 5 (Needs to be Done)"
   ]
  },
  {
   "cell_type": "code",
   "execution_count": 5,
   "metadata": {},
   "outputs": [
    {
     "name": "stdout",
     "output_type": "stream",
     "text": [
      "ACGTTGCATGTCGCATGATGCATGAGAGCT\n",
      "4\n",
      "1\n",
      "AATG ACAT ATGA ATGC ATGT CATC CATG CATT GATG GCAT TCAT \n"
     ]
    }
   ],
   "source": [
    "import itertools\n",
    "\n",
    "def frequentWordsWithMismatch(text, k, d):\n",
    "    x = ['A', 'C', 'G', 'T']\n",
    "    pattern_dict = {p: 0 for p in itertools.product(x, repeat=k)}\n",
    "    #len(pattern_dict)\n",
    "    max_occur = 0\n",
    "    text_reverse_complement = reverseComplement(text)\n",
    "    \n",
    "    for p in pattern_dict.keys():\n",
    "        pattern_dict[p] = len(approximatePattern(p, text, d))\n",
    "        pattern_dict[p] += len(approximatePattern(p, text_reverse_complement, d))\n",
    "        \n",
    "        if pattern_dict[p] > max_occur:\n",
    "            max_occur = pattern_dict[p]\n",
    "\n",
    "    output = ''\n",
    "    for p in pattern_dict.keys():\n",
    "        if pattern_dict[p] == max_occur:\n",
    "            output += (''.join(p)) + \" \"\n",
    "    return output\n",
    "\n",
    "text = input()\n",
    "k = int(input())\n",
    "d = int(input())\n",
    "\n",
    "print(frequentWordsWithMismatch(text, k, d))\n",
    "\n"
   ]
  },
  {
   "cell_type": "markdown",
   "metadata": {},
   "source": [
    "# Subtask 6"
   ]
  },
  {
   "cell_type": "code",
   "execution_count": 6,
   "metadata": {},
   "outputs": [
    {
     "name": "stdout",
     "output_type": "stream",
     "text": [
      "AGT\n"
     ]
    },
    {
     "data": {
      "text/plain": [
       "11"
      ]
     },
     "execution_count": 6,
     "metadata": {},
     "output_type": "execute_result"
    }
   ],
   "source": [
    "string = input()\n",
    "\n",
    "def patternToNumber(string):\n",
    "    length = len(string)\n",
    "    x = ['A', 'C', 'G', 'T']\n",
    "    pattern_dict = {p: i for i, p in enumerate(itertools.product(x, repeat=length))}\n",
    "    t = tuple(string)\n",
    "    return pattern_dict[t]\n",
    "\n",
    "patternToNumber(string)"
   ]
  },
  {
   "cell_type": "markdown",
   "metadata": {},
   "source": [
    "# Subtask 7"
   ]
  },
  {
   "cell_type": "code",
   "execution_count": 7,
   "metadata": {},
   "outputs": [
    {
     "name": "stdout",
     "output_type": "stream",
     "text": [
      "45\n",
      "4\n",
      "AGTC\n"
     ]
    }
   ],
   "source": [
    "number = int(input())\n",
    "k = int(input())\n",
    "\n",
    "def numberToPattern(number, k):\n",
    "    x = ['A', 'C', 'G', 'T']\n",
    "    pattern_dict = {p: i for i, p in enumerate(itertools.product(x, repeat=k))}\n",
    "    for i in pattern_dict:\n",
    "        if pattern_dict[i] == number:\n",
    "            return (''.join(i))\n",
    "\n",
    "print(numberToPattern(number, k))"
   ]
  }
 ],
 "metadata": {
  "kernelspec": {
   "display_name": "Python [default]",
   "language": "python",
   "name": "python3"
  },
  "language_info": {
   "codemirror_mode": {
    "name": "ipython",
    "version": 3
   },
   "file_extension": ".py",
   "mimetype": "text/x-python",
   "name": "python",
   "nbconvert_exporter": "python",
   "pygments_lexer": "ipython3",
   "version": "3.6.4"
  }
 },
 "nbformat": 4,
 "nbformat_minor": 2
}
