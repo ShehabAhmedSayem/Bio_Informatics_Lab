{
 "cells": [
  {
   "cell_type": "markdown",
   "metadata": {},
   "source": [
    "# SubTask1"
   ]
  },
  {
   "cell_type": "code",
   "execution_count": 7,
   "metadata": {},
   "outputs": [
    {
     "name": "stdout",
     "output_type": "stream",
     "text": [
      "AUGGCCAUGGCGCCCAGAACUGAGAUCAAUAGUACCCGUAUUAACGGGUGA\n",
      "MAMAPRTEINSTRING\n"
     ]
    }
   ],
   "source": [
    "def look_up_dict_generate(): \n",
    "    look_up_dict = {\"UUU\":\"F\", \"UUC\":\"F\", \"UUA\":\"L\", \"UUG\":\"L\",\n",
    "                    \"UCU\":\"S\", \"UCC\":\"S\", \"UCA\":\"S\", \"UCG\":\"S\",\n",
    "                    \"UAU\":\"Y\", \"UAC\":\"Y\", \"UAA\":\"*\", \"UAG\":\"*\",\n",
    "                    \"UGU\":\"C\", \"UGC\":\"C\", \"UGA\":\"*\", \"UGG\":\"W\",\n",
    "                    \"CUU\":\"L\", \"CUC\":\"L\", \"CUA\":\"L\", \"CUG\":\"L\",\n",
    "                    \"CCU\":\"P\", \"CCC\":\"P\", \"CCA\":\"P\", \"CCG\":\"P\",\n",
    "                    \"CAU\":\"H\", \"CAC\":\"H\", \"CAA\":\"Q\", \"CAG\":\"Q\",\n",
    "                    \"CGU\":\"R\", \"CGC\":\"R\", \"CGA\":\"R\", \"CGG\":\"R\",\n",
    "                    \"AUU\":\"I\", \"AUC\":\"I\", \"AUA\":\"I\", \"AUG\":\"M\",\n",
    "                    \"ACU\":\"T\", \"ACC\":\"T\", \"ACA\":\"T\", \"ACG\":\"T\",\n",
    "                    \"AAU\":\"N\", \"AAC\":\"N\", \"AAA\":\"K\", \"AAG\":\"K\",\n",
    "                    \"AGU\":\"S\", \"AGC\":\"S\", \"AGA\":\"R\", \"AGG\":\"R\",\n",
    "                    \"GUU\":\"V\", \"GUC\":\"V\", \"GUA\":\"V\", \"GUG\":\"V\",\n",
    "                    \"GCU\":\"A\", \"GCC\":\"A\", \"GCA\":\"A\", \"GCG\":\"A\",\n",
    "                    \"GAU\":\"D\", \"GAC\":\"D\", \"GAA\":\"E\", \"GAG\":\"E\",\n",
    "                    \"GGU\":\"G\", \"GGC\":\"G\", \"GGA\":\"G\", \"GGG\":\"G\",}\n",
    "    \n",
    "    return look_up_dict\n",
    "\n",
    "look_up_dict = look_up_dict_generate()\n",
    "rnaString = input()\n",
    "index = 0\n",
    "peptide = ''\n",
    "while index < len(rnaString)-2:\n",
    "    rna = rnaString[index:index+3]\n",
    "    if look_up_dict[rna] != '*':\n",
    "        peptide += look_up_dict[rna]\n",
    "    else:\n",
    "        break\n",
    "    index+=3\n",
    "    \n",
    "print(peptide)"
   ]
  },
  {
   "cell_type": "markdown",
   "metadata": {},
   "source": [
    "# Subtask 2"
   ]
  },
  {
   "cell_type": "code",
   "execution_count": 22,
   "metadata": {},
   "outputs": [
    {
     "name": "stdout",
     "output_type": "stream",
     "text": [
      "ATGGCCATGGCCCCCAGAACTGAGATCAATAGTACCCGTATTAACGGGTGA\n",
      "MA\n",
      "['ATGGCC', 'ATGGCC', 'GGCCAT']\n"
     ]
    }
   ],
   "source": [
    "def reverse_complement(dna):\n",
    "    rev = dna[::-1]\n",
    "    rev_com = ''\n",
    "    n_com = {'A':'T', 'C':'G', 'T':'A', 'G':'C'}\n",
    "    for n in rev:\n",
    "        rev_com += n_com[n]\n",
    "    return rev_com\n",
    "\n",
    "\n",
    "look_up_dict = look_up_dict_generate()\n",
    "text_encoding_peptide_list = []\n",
    "\n",
    "dnaString = input()\n",
    "peptide = input()\n",
    "\n",
    "rnaString1 = dnaString.replace('T', 'U')\n",
    "rnaString2 = reverse_complement(dnaString).replace('T', 'U')\n",
    "l = len(peptide)*3\n",
    "\n",
    "index = 0\n",
    "\n",
    "while index < len(dnaString)-l:\n",
    "    i = index\n",
    "    s = ''\n",
    "    for p in peptide:\n",
    "        rna = rnaString1[i:i+3]\n",
    "        if look_up_dict[rna] == p:\n",
    "            s += rna.replace('U', 'T')\n",
    "            i = i+3\n",
    "        else:\n",
    "            s=''\n",
    "            break;\n",
    "    if(s!=''):\n",
    "        text_encoding_peptide_list.append(s)\n",
    "        \n",
    "    i = index\n",
    "    s = ''\n",
    "    for p in peptide:\n",
    "        rna = rnaString2[i:i+3]\n",
    "        if look_up_dict[rna] == p:\n",
    "            dna = rna.replace('U', 'T')\n",
    "            s+=dna\n",
    "            i = i+3\n",
    "        else:\n",
    "            s=''\n",
    "            break;\n",
    "    if(s!=''):\n",
    "        s = reverse_complement(s)\n",
    "        text_encoding_peptide_list.append(s)\n",
    "    index+=1\n",
    "    \n",
    "print(text_encoding_peptide_list)"
   ]
  },
  {
   "cell_type": "markdown",
   "metadata": {},
   "source": [
    "# Subtask 3"
   ]
  },
  {
   "cell_type": "code",
   "execution_count": 60,
   "metadata": {},
   "outputs": [
    {
     "name": "stdout",
     "output_type": "stream",
     "text": [
      "LEQN\n",
      "[0, 113, 114, 128, 129, 227, 242, 242, 257, 355, 356, 370, 371, 484]\n"
     ]
    }
   ],
   "source": [
    "def peptide_mass_dict_generate():\n",
    "    peptideMass = {\"G\":57,\"A\":71,\"S\":87,\"P\":97,\"V\":99,\"T\":101,\n",
    "                   \"C\":103,\"I\":113,\"L\":113,\"N\":114,\"D\":115,\"K\":128,\n",
    "                   \"Q\":128,\"E\":129,\"M\":131,\"H\":137,\"F\":14,\"R\":156,\"Y\":163,\"W\":186}\n",
    "    return peptideMass\n",
    "\n",
    "\n",
    "peptideMass = peptide_mass_dict_generate()\n",
    "\n",
    "s1 = input()\n",
    "l = len(s1)\n",
    "s = s1+s1\n",
    "\n",
    "ans = [0]\n",
    "for i in range(1,l):\n",
    "    for j in range(l):\n",
    "        sub = s[j:j+i]\n",
    "        n=0\n",
    "        for k in sub:\n",
    "            n += peptideMass[k]\n",
    "        ans.append(n)\n",
    "n=0\n",
    "for k in s1:\n",
    "    n += peptideMass[k]\n",
    "ans.append(n)\n",
    "\n",
    "ans.sort()\n",
    "print(ans)"
   ]
  },
  {
   "cell_type": "code",
   "execution_count": null,
   "metadata": {},
   "outputs": [],
   "source": []
  }
 ],
 "metadata": {
  "kernelspec": {
   "display_name": "Python [default]",
   "language": "python",
   "name": "python3"
  },
  "language_info": {
   "codemirror_mode": {
    "name": "ipython",
    "version": 3
   },
   "file_extension": ".py",
   "mimetype": "text/x-python",
   "name": "python",
   "nbconvert_exporter": "python",
   "pygments_lexer": "ipython3",
   "version": "3.6.4"
  }
 },
 "nbformat": 4,
 "nbformat_minor": 2
}
