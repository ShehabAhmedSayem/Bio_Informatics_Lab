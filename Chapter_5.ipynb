{
 "cells": [
  {
   "cell_type": "markdown",
   "metadata": {},
   "source": [
    "# BA5A"
   ]
  },
  {
   "cell_type": "code",
   "execution_count": 3,
   "metadata": {},
   "outputs": [
    {
     "name": "stdout",
     "output_type": "stream",
     "text": [
      "17726\n",
      "1,3,5,13,14,15,19\n",
      "934\n"
     ]
    }
   ],
   "source": [
    "total = int(input())\n",
    "\n",
    "coins = []\n",
    "\n",
    "str_input = input()\n",
    "\n",
    "str_input = str_input.split(',')\n",
    "\n",
    "for i in str_input:\n",
    "    coins.append(int(i))\n",
    "    \n",
    "#print(coins)\n",
    "coins.sort()\n",
    "c = total\n",
    "r = len(coins)\n",
    "Matrix = [[0 for x in range(c+2)] for y in range(r)] \n",
    "\n",
    "for i in range(r):\n",
    "    for j in range(1,c+1):\n",
    "        if i == 0:\n",
    "            if j % coins[i] == 0:\n",
    "                Matrix[i][j]=j/coins[i]\n",
    "                #print(coins[i],j,\" -> \",Matrix)\n",
    "            \n",
    "            else :\n",
    "                Matrix[i][j]=2147482525\n",
    "        else :\n",
    "            \n",
    "            if j >= coins[i]:\n",
    "                Matrix[i][j] = min(Matrix[i-1][j],Matrix[i][j-coins[i]]+1)\n",
    "            else :\n",
    "                Matrix[i][j] = Matrix[i-1][j]\n",
    "print(Matrix[r-1][c])\n",
    "       \n"
   ]
  },
  {
   "cell_type": "markdown",
   "metadata": {},
   "source": [
    "# BA5B"
   ]
  },
  {
   "cell_type": "code",
   "execution_count": 4,
   "metadata": {},
   "outputs": [
    {
     "name": "stdout",
     "output_type": "stream",
     "text": [
      "Enter two numbers here: 13 12\n",
      "1 1 0 2 4 4 1 3 1 2 2 4 2 0 1 1 4 4 4 1 1 3 0 3 0 2 4 1 2 0 2 4 1 2 0 4 4 1 2 0 4 2 1 2 0 3 0 2 1 1 0 2 3 2 2 2 4 2 2 0 3 3 1 0 2 1 3 0 0 4 0 1 0 2 2 0 3 0 2 0 4 3 3 0 1 0 2 0 4 0 2 3 3 3 2 4 4 3 1 4 4 2 2 1 1 1 0 2 0 3 3 0 2 4 4 1 2 3 2 1 2 2 1 0 4 1 1 0 0 1 4 0 2 3 4 1 2 2 4 2 3 4 0 3 4 2 2 1 1 2 3 3 3 0 3 1 2 4 1 2 4 2 0 4 1 0 0 3 3\n",
      "4 4 1 2 1 1 2 3 4 1 2 4 2 1 0 2 2 3 2 1 2 2 4 2 3 1 0 0 0 3 3 2 2 3 1 3 1 2 2 1 2 3 3 2 4 2 2 4 1 0 3 4 0 0 3 0 0 4 4 0 0 2 2 3 0 2 3 3 3 2 0 4 2 1 3 3 2 1 3 2 0 1 3 2 3 0 2 2 0 3 3 3 1 0 0 2 1 0 3 4 1 4 3 3 2 4 0 3 0 3 4 4 1 3 1 4 3 3 0 3 1 0 2 0 2 3 3 1 3 4 1 0 2 0 4 4 4 0 0 3 3 2 1 3 3 1 3 4 1 3 3 0 0 3 1 2 3 0 0 3 0 3 2 0 0 0 4 2\n",
      "73\n"
     ]
    }
   ],
   "source": [
    "n,m = input(\"Enter two numbers here: \").split()\n",
    "n = int(n)\n",
    "m = int(m)\n",
    "\n",
    "Matrix_Down = [] \n",
    "Matrix_Right = [] \n",
    "temp = []\n",
    "\n",
    "for i in range(0,n):\n",
    "    Matrix_Down.append([])\n",
    "for i in range(0,n+1):\n",
    "    Matrix_Right.append([])\n",
    "\n",
    "str_input = input()\n",
    "\n",
    "count = 0\n",
    "x = 0\n",
    "\n",
    "for i in str_input.split():\n",
    "    temp.append(int(i))\n",
    "    count = count + 1\n",
    "    if count == m+1:\n",
    "        Matrix_Down[x] = temp\n",
    "        count = 0\n",
    "        temp = []\n",
    "        x += 1\n",
    "    \n",
    "\n",
    "#print(Matrix_Down)\n",
    "str_input = input()\n",
    "\n",
    "count = 0\n",
    "x = 0\n",
    "temp = []\n",
    "\n",
    "for i in str_input.split():\n",
    "    temp.append(int(i))\n",
    "    count = count + 1\n",
    "    if count == m:\n",
    "        Matrix_Right[x] = temp\n",
    "        count = 0\n",
    "        temp = []\n",
    "        x = x + 1\n",
    "           \n",
    "\n",
    "#print(Matrix_Right)\n",
    "\n",
    "Matrix = [[0 for x in range(m+2)] for y in range(n+1)] \n",
    "\n",
    "\n",
    "for i in range(0,m):\n",
    "   \n",
    "    Matrix[0][i+1] = Matrix[0][i] + Matrix_Right[0][i]\n",
    "    \n",
    "for i in range(0,n):\n",
    "    Matrix[i+1][0] = Matrix[i][0] + Matrix_Down[i][0]\n",
    "    \n",
    "#print(Matrix)\n",
    "\n",
    "for i in range(1,n+1):\n",
    "    for j in range(1,m+1):\n",
    "        \n",
    "        Matrix[i][j] = max(Matrix[i-1][j]+Matrix_Down[i-1][j],Matrix[i][j-1]+Matrix_Right[i][j-1])\n",
    "        #print(\"=>\",i,j,Matrix[i][0] , Matrix_Down[i][0])\n",
    "print(Matrix[n][m])\n",
    "\n",
    "\n",
    "\n"
   ]
  },
  {
   "cell_type": "code",
   "execution_count": null,
   "metadata": {},
   "outputs": [],
   "source": []
  }
 ],
 "metadata": {
  "kernelspec": {
   "display_name": "Python [default]",
   "language": "python",
   "name": "python3"
  },
  "language_info": {
   "codemirror_mode": {
    "name": "ipython",
    "version": 3
   },
   "file_extension": ".py",
   "mimetype": "text/x-python",
   "name": "python",
   "nbconvert_exporter": "python",
   "pygments_lexer": "ipython3",
   "version": "3.6.4"
  }
 },
 "nbformat": 4,
 "nbformat_minor": 2
}
