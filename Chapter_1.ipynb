{
 "cells": [
  {
   "cell_type": "code",
   "execution_count": 4,
   "metadata": {},
   "outputs": [],
   "source": [
    "# Imports\n",
    "\n",
    "import numpy as np\n",
    "import itertools"
   ]
  },
  {
   "cell_type": "markdown",
   "metadata": {},
   "source": [
    "# BA1A"
   ]
  },
  {
   "cell_type": "code",
   "execution_count": 16,
   "metadata": {},
   "outputs": [
    {
     "name": "stdout",
     "output_type": "stream",
     "text": [
      "GCGCG\n",
      "GCG\n",
      "2\n"
     ]
    }
   ],
   "source": [
    "def occurrence(string, pattern):\n",
    "    \"\"\"\n",
    "    string: input string\n",
    "    pattern: pattern to search\n",
    "    \"\"\"\n",
    "    \n",
    "    count = 0\n",
    "    l = len(string)\n",
    "    p = len(pattern)\n",
    "    \n",
    "    for start in range(l-p+1):\n",
    "        if(string[start:start+p] == pattern):\n",
    "            count += 1\n",
    "    \n",
    "    return count\n",
    "\n",
    "string = input()\n",
    "pattern = input()\n",
    "\n",
    "print(occurrence(string, pattern))"
   ]
  },
  {
   "cell_type": "markdown",
   "metadata": {},
   "source": [
    "# BA1B"
   ]
  },
  {
   "cell_type": "code",
   "execution_count": 18,
   "metadata": {},
   "outputs": [
    {
     "name": "stdout",
     "output_type": "stream",
     "text": [
      "ACGTTGCATGTCGCATGATGCATGAGAGCT\n",
      "4\n",
      "GCAT\n",
      "CATG\n"
     ]
    }
   ],
   "source": [
    "def most_frequent_kmer(string, k):\n",
    "    '''\n",
    "    string: input string\n",
    "    k: length of kmers\n",
    "    '''\n",
    "    \n",
    "    pattern_occurences = dict()\n",
    "    \n",
    "    l = len(string)\n",
    "    most_occurence = 0\n",
    "    \n",
    "    for i in range(l-k+1):\n",
    "        pattern = string[i:i+k]\n",
    "        \n",
    "        if pattern in pattern_occurences.keys():\n",
    "            pattern_occurences[pattern] += 1\n",
    "        else:\n",
    "            pattern_occurences[pattern] = 1\n",
    "            \n",
    "        if pattern_occurences[pattern] > most_occurence:\n",
    "            most_occurence = pattern_occurences[pattern]\n",
    "    \n",
    "    return pattern_occurences, most_occurence\n",
    "    \n",
    "    \n",
    "string = input()\n",
    "k = int(input())\n",
    "\n",
    "pattern_dict, most_occurence = most_frequent_kmer(string, k)\n",
    "\n",
    "for k, v in pattern_dict.items():\n",
    "    if v == most_occurence:\n",
    "        print(k)"
   ]
  },
  {
   "cell_type": "markdown",
   "metadata": {},
   "source": [
    "# BA1C"
   ]
  },
  {
   "cell_type": "code",
   "execution_count": 22,
   "metadata": {},
   "outputs": [
    {
     "name": "stdout",
     "output_type": "stream",
     "text": [
      "AAAACCCGGT\n",
      "TGGCCCAAAA\n",
      "ACCGGGTTTT\n"
     ]
    }
   ],
   "source": [
    "def reverse_complement(string):\n",
    "    \"\"\"\n",
    "    string: string to reverse and complement\n",
    "    \"\"\"\n",
    "    rev_str = string[::-1]\n",
    "    complement_rev = ''\n",
    "    \n",
    "    for i in range(len(string)):\n",
    "        if(rev_str[i]=='A'):\n",
    "            complement_rev += 'T'\n",
    "        elif(rev_str[i]=='T'):\n",
    "            complement_rev += 'A'\n",
    "        elif(rev_str[i]=='C'):\n",
    "            complement_rev += 'G'\n",
    "        elif(rev_str[i]=='G'):\n",
    "            complement_rev += 'C'\n",
    "    \n",
    "    return complement_rev\n",
    "\n",
    "string = input()\n",
    "print(reverse_complement(string))\n",
    "    "
   ]
  },
  {
   "cell_type": "markdown",
   "metadata": {},
   "source": [
    "# BA1D"
   ]
  },
  {
   "cell_type": "code",
   "execution_count": 25,
   "metadata": {},
   "outputs": [
    {
     "name": "stdout",
     "output_type": "stream",
     "text": [
      "ATAT\n",
      "GATATATGCATATACTT\n",
      "1 3 9 \n"
     ]
    }
   ],
   "source": [
    "def all_occurence_of_pattern(string, pattern):\n",
    "    \"\"\"\n",
    "    string: input string\n",
    "    pattern: pattern to find all occurences\n",
    "    \"\"\"\n",
    "    index_list = []\n",
    "    l = len(string)\n",
    "    p = len(pattern)\n",
    "    \n",
    "    for start in range(l-p+1):\n",
    "        if(string[start:start+p] == pattern):\n",
    "            index_list.append(start)\n",
    "    \n",
    "    return index_list\n",
    "\n",
    "\n",
    "pattern = input()\n",
    "string = input()\n",
    "\n",
    "index_list = all_occurence_of_pattern(string, pattern)\n",
    "answer = ''\n",
    "for i in index_list:\n",
    "    answer += (str(i) + ' ')\n",
    "print(answer)\n",
    "    "
   ]
  },
  {
   "cell_type": "markdown",
   "metadata": {},
   "source": [
    "# BA1E"
   ]
  },
  {
   "cell_type": "code",
   "execution_count": 42,
   "metadata": {},
   "outputs": [
    {
     "name": "stdout",
     "output_type": "stream",
     "text": [
      "CGGACTCGACAGATGTGAAGAAATGTGAAGACTGAGTGAAGAGAAGAGGAAACACGACACGACATTGCGACATAATGTACGAATGTAATGTGCCTATGGC\n",
      "5\n",
      "75\n",
      "4\n",
      "CGACA GAAGA AATGT \n"
     ]
    }
   ],
   "source": [
    "def find_clumps(string, k, L, t):\n",
    "    clump_list = []\n",
    "\n",
    "    for start in range((len(string) - L + 1)):\n",
    "        temp_str = string[start: start + L]\n",
    "        \n",
    "        for start_temp in range((L - k + 1)):\n",
    "            pattern = temp_str[start_temp: start_temp + k]\n",
    "            if occurrence(temp_str, pattern) >= t and pattern not in clump_list:\n",
    "                clump_list.append(pattern)\n",
    "\n",
    "    return clump_list\n",
    "\n",
    "string = input()\n",
    "k = int(input())\n",
    "L = int(input())\n",
    "t = int(input())\n",
    "\n",
    "clump_list = find_clumps(string, k, L, t)\n",
    "answer = ''\n",
    "for i in clump_list:\n",
    "    answer += (str(i) + ' ')\n",
    "print(answer)"
   ]
  },
  {
   "cell_type": "code",
   "execution_count": null,
   "metadata": {},
   "outputs": [],
   "source": []
  }
 ],
 "metadata": {
  "kernelspec": {
   "display_name": "Python [conda env:anaconda3]",
   "language": "python",
   "name": "conda-env-anaconda3-py"
  },
  "language_info": {
   "codemirror_mode": {
    "name": "ipython",
    "version": 3
   },
   "file_extension": ".py",
   "mimetype": "text/x-python",
   "name": "python",
   "nbconvert_exporter": "python",
   "pygments_lexer": "ipython3",
   "version": "3.6.4"
  }
 },
 "nbformat": 4,
 "nbformat_minor": 2
}
