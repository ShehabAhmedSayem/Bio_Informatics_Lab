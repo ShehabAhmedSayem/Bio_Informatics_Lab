{
 "cells": [
  {
   "cell_type": "code",
   "execution_count": 2,
   "metadata": {},
   "outputs": [],
   "source": [
    "# Imports\n",
    "\n",
    "import numpy as np\n",
    "import itertools"
   ]
  },
  {
   "cell_type": "markdown",
   "metadata": {},
   "source": [
    "# BA1A"
   ]
  },
  {
   "cell_type": "code",
   "execution_count": 16,
   "metadata": {},
   "outputs": [
    {
     "name": "stdout",
     "output_type": "stream",
     "text": [
      "GCGCG\n",
      "GCG\n",
      "2\n"
     ]
    }
   ],
   "source": [
    "def occurrence(string, pattern):\n",
    "    \"\"\"\n",
    "    string: input string\n",
    "    pattern: pattern to search\n",
    "    \"\"\"\n",
    "    \n",
    "    count = 0\n",
    "    l = len(string)\n",
    "    p = len(pattern)\n",
    "    \n",
    "    for start in range(l-p+1):\n",
    "        if(string[start:start+p] == pattern):\n",
    "            count += 1\n",
    "    \n",
    "    return count\n",
    "\n",
    "string = input()\n",
    "pattern = input()\n",
    "\n",
    "print(occurrence(string, pattern))"
   ]
  },
  {
   "cell_type": "markdown",
   "metadata": {},
   "source": [
    "# BA1B"
   ]
  },
  {
   "cell_type": "code",
   "execution_count": 18,
   "metadata": {},
   "outputs": [
    {
     "name": "stdout",
     "output_type": "stream",
     "text": [
      "ACGTTGCATGTCGCATGATGCATGAGAGCT\n",
      "4\n",
      "GCAT\n",
      "CATG\n"
     ]
    }
   ],
   "source": [
    "def most_frequent_kmer(string, k):\n",
    "    '''\n",
    "    string: input string\n",
    "    k: length of kmers\n",
    "    '''\n",
    "    \n",
    "    pattern_occurences = dict()\n",
    "    \n",
    "    l = len(string)\n",
    "    most_occurence = 0\n",
    "    \n",
    "    for i in range(l-k+1):\n",
    "        pattern = string[i:i+k]\n",
    "        \n",
    "        if pattern in pattern_occurences.keys():\n",
    "            pattern_occurences[pattern] += 1\n",
    "        else:\n",
    "            pattern_occurences[pattern] = 1\n",
    "            \n",
    "        if pattern_occurences[pattern] > most_occurence:\n",
    "            most_occurence = pattern_occurences[pattern]\n",
    "    \n",
    "    return pattern_occurences, most_occurence\n",
    "    \n",
    "    \n",
    "string = input()\n",
    "k = int(input())\n",
    "\n",
    "pattern_dict, most_occurence = most_frequent_kmer(string, k)\n",
    "\n",
    "for k, v in pattern_dict.items():\n",
    "    if v == most_occurence:\n",
    "        print(k)"
   ]
  },
  {
   "cell_type": "markdown",
   "metadata": {},
   "source": [
    "# BA1C"
   ]
  },
  {
   "cell_type": "code",
   "execution_count": 22,
   "metadata": {},
   "outputs": [
    {
     "name": "stdout",
     "output_type": "stream",
     "text": [
      "AAAACCCGGT\n",
      "TGGCCCAAAA\n",
      "ACCGGGTTTT\n"
     ]
    }
   ],
   "source": [
    "def reverse_complement(string):\n",
    "    \"\"\"\n",
    "    string: string to reverse and complement\n",
    "    \"\"\"\n",
    "    rev_str = string[::-1]\n",
    "    complement_rev = ''\n",
    "    \n",
    "    for i in range(len(string)):\n",
    "        if(rev_str[i]=='A'):\n",
    "            complement_rev += 'T'\n",
    "        elif(rev_str[i]=='T'):\n",
    "            complement_rev += 'A'\n",
    "        elif(rev_str[i]=='C'):\n",
    "            complement_rev += 'G'\n",
    "        elif(rev_str[i]=='G'):\n",
    "            complement_rev += 'C'\n",
    "    \n",
    "    return complement_rev\n",
    "\n",
    "string = input()\n",
    "print(reverse_complement(string))\n",
    "    "
   ]
  },
  {
   "cell_type": "markdown",
   "metadata": {},
   "source": [
    "# BA1D"
   ]
  },
  {
   "cell_type": "code",
   "execution_count": 25,
   "metadata": {},
   "outputs": [
    {
     "name": "stdout",
     "output_type": "stream",
     "text": [
      "ATAT\n",
      "GATATATGCATATACTT\n",
      "1 3 9 \n"
     ]
    }
   ],
   "source": [
    "def all_occurence_of_pattern(string, pattern):\n",
    "    \"\"\"\n",
    "    string: input string\n",
    "    pattern: pattern to find all occurences\n",
    "    \"\"\"\n",
    "    index_list = []\n",
    "    l = len(string)\n",
    "    p = len(pattern)\n",
    "    \n",
    "    for start in range(l-p+1):\n",
    "        if(string[start:start+p] == pattern):\n",
    "            index_list.append(start)\n",
    "    \n",
    "    return index_list\n",
    "\n",
    "\n",
    "pattern = input()\n",
    "string = input()\n",
    "\n",
    "index_list = all_occurence_of_pattern(string, pattern)\n",
    "answer = ''\n",
    "for i in index_list:\n",
    "    answer += (str(i) + ' ')\n",
    "print(answer)\n",
    "    "
   ]
  },
  {
   "cell_type": "markdown",
   "metadata": {},
   "source": [
    "# BA1E"
   ]
  },
  {
   "cell_type": "code",
   "execution_count": 42,
   "metadata": {},
   "outputs": [
    {
     "name": "stdout",
     "output_type": "stream",
     "text": [
      "CGGACTCGACAGATGTGAAGAAATGTGAAGACTGAGTGAAGAGAAGAGGAAACACGACACGACATTGCGACATAATGTACGAATGTAATGTGCCTATGGC\n",
      "5\n",
      "75\n",
      "4\n",
      "CGACA GAAGA AATGT \n"
     ]
    }
   ],
   "source": [
    "def find_clumps(string, k, L, t):\n",
    "    clump_list = []\n",
    "\n",
    "    for start in range((len(string) - L + 1)):\n",
    "        temp_str = string[start: start + L]\n",
    "        \n",
    "        for start_temp in range((L - k + 1)):\n",
    "            pattern = temp_str[start_temp: start_temp + k]\n",
    "            if occurrence(temp_str, pattern) >= t and pattern not in clump_list:\n",
    "                clump_list.append(pattern)\n",
    "\n",
    "    return clump_list\n",
    "\n",
    "string = input()\n",
    "k = int(input())\n",
    "L = int(input())\n",
    "t = int(input())\n",
    "\n",
    "clump_list = find_clumps(string, k, L, t)\n",
    "answer = ''\n",
    "for i in clump_list:\n",
    "    answer += (str(i) + ' ')\n",
    "print(answer)"
   ]
  },
  {
   "cell_type": "markdown",
   "metadata": {},
   "source": [
    "# BA1F"
   ]
  },
  {
   "cell_type": "code",
   "execution_count": 13,
   "metadata": {},
   "outputs": [
    {
     "name": "stdout",
     "output_type": "stream",
     "text": [
      "CCTATCGGTGGATTAGCATGTCCCTGTACGTTTCGCCGCGAACTAGTTCACACGGCTTGATGGCAAATGGTTTTTCCGGCGACCGTAATCGTCCACCGAG\n",
      "53 97 \n"
     ]
    }
   ],
   "source": [
    "def min_skew(dna):\n",
    "    min_pos = []\n",
    "    min_value = len(dna)+1\n",
    "    count = 0\n",
    "    for i in dna:\n",
    "        if i == 'C':\n",
    "            count-=1\n",
    "        elif i == 'G':\n",
    "            count+=1\n",
    "        if count < min_value:\n",
    "            min_value = count\n",
    "        min_pos.append(count)\n",
    "        \n",
    "    return min_pos, min_value\n",
    "\n",
    "dna_string = input()\n",
    "min_pos, min_value = min_skew(dna_string)\n",
    "\n",
    "ans = ''\n",
    "for i in range(len(dna_string)):\n",
    "    if min_pos[i] == min_value:\n",
    "        ans += (str(i+1)+' ')\n",
    "print(ans)"
   ]
  },
  {
   "cell_type": "markdown",
   "metadata": {},
   "source": [
    "# BA1G"
   ]
  },
  {
   "cell_type": "code",
   "execution_count": 16,
   "metadata": {},
   "outputs": [
    {
     "name": "stdout",
     "output_type": "stream",
     "text": [
      "GGGCCGTTGGT\n",
      "GGACCGTTGAC\n",
      "3\n"
     ]
    }
   ],
   "source": [
    "def hammingDistance(string1, string2):\n",
    "    distance = 0\n",
    "    for i in range(len(string1)):\n",
    "        if string1[i] != string2[i]:\n",
    "            distance+=1\n",
    "    return distance\n",
    "\n",
    "s1 = input()\n",
    "s2 = input()\n",
    "\n",
    "distance = hammingDistance(s1,s2)    \n",
    "\n",
    "print(distance)"
   ]
  },
  {
   "cell_type": "markdown",
   "metadata": {},
   "source": [
    "# BA1H"
   ]
  },
  {
   "cell_type": "code",
   "execution_count": 20,
   "metadata": {},
   "outputs": [
    {
     "name": "stdout",
     "output_type": "stream",
     "text": [
      "ATTCTGGA\n",
      "CGCCCGAATCCAGAACGCATTCCCATATTTCGGGACCACTGGCCTCCACGGTACGGACGTCAATCAAATGCCTAGCGGCTTGTGGTTTCTCCTACGCTCC\n",
      "3\n",
      "6 7 26 27 78 \n"
     ]
    }
   ],
   "source": [
    "def approximatePattern(pattern, dna, distance):\n",
    "    dna = list(dna)\n",
    "    pattern = list(pattern)\n",
    "    pattern_length = len(pattern)\n",
    "    output = []\n",
    "    \n",
    "    for i in range(len(dna)-pattern_length):\n",
    "        string1 = dna[i:i+pattern_length]\n",
    "        if hammingDistance(string1, pattern) <= distance:\n",
    "            output.append(i)\n",
    "    return output\n",
    "\n",
    "pattern = input()\n",
    "dna = input()\n",
    "distance = int(input())\n",
    "\n",
    "pattern_list = approximatePattern(pattern, dna, distance)\n",
    "answer = ''\n",
    "for i in pattern_list:\n",
    "    answer += (str(i) + ' ')\n",
    "print(answer)"
   ]
  },
  {
   "cell_type": "markdown",
   "metadata": {},
   "source": [
    "# BA1I"
   ]
  },
  {
   "cell_type": "code",
   "execution_count": 31,
   "metadata": {},
   "outputs": [
    {
     "name": "stdout",
     "output_type": "stream",
     "text": [
      "ACGTTGCATGTCGCATGATGCATGAGAGCT\n",
      "4\n",
      "1\n",
      "GATG ATGC ATGT \n"
     ]
    }
   ],
   "source": [
    "def approximatePattern(pattern, dna, distance):\n",
    "    dna = list(dna)\n",
    "    pattern = list(pattern)\n",
    "    pattern_length = len(pattern)\n",
    "    output = []\n",
    "    \n",
    "    for i in range(len(dna)-pattern_length):\n",
    "        string1 = dna[i:i+pattern_length]\n",
    "        if hammingDistance(string1, pattern) <= distance:\n",
    "            output.append(i)\n",
    "    return output\n",
    "\n",
    "def frequentWordsWithMismatch(dna, k, d):\n",
    "    x = ['G', 'A', 'C', 'T']\n",
    "    pattern_dict = {p: 0 for p in itertools.product(x, repeat=k)}\n",
    "    \n",
    "    max_occur = 0\n",
    "\n",
    "    for p in pattern_dict.keys():\n",
    "        pattern_dict[p] = len(approximatePattern(p, dna, d))\n",
    "        if pattern_dict[p] > max_occur:\n",
    "            max_occur = pattern_dict[p]\n",
    "\n",
    "    output = []\n",
    "    for p in pattern_dict.keys():\n",
    "        if pattern_dict[p] == max_occur:\n",
    "            output.append(''.join(p))\n",
    "    return output\n",
    "\n",
    "dna = input()\n",
    "k = int(input())\n",
    "distance = int(input())\n",
    "\n",
    "pattern_list = frequentWordsWithMismatch(dna, k, distance)\n",
    "answer = ''\n",
    "for i in pattern_list:\n",
    "    answer += (str(i) + ' ')\n",
    "print(answer)"
   ]
  },
  {
   "cell_type": "markdown",
   "metadata": {},
   "source": [
    "# BA1J"
   ]
  },
  {
   "cell_type": "code",
   "execution_count": 45,
   "metadata": {},
   "outputs": [
    {
     "name": "stdout",
     "output_type": "stream",
     "text": [
      "ACGTTGCATGTCGCATGATGCATGAGAGCT\n",
      "4\n",
      "1\n",
      "ATGT ACAT \n"
     ]
    }
   ],
   "source": [
    "def reverse_complement(string):\n",
    "    rev_str = string[::-1]\n",
    "    complement_rev = ''\n",
    "    \n",
    "    for i in range(len(string)):\n",
    "        if(rev_str[i]=='A'):\n",
    "            complement_rev += 'T'\n",
    "        elif(rev_str[i]=='T'):\n",
    "            complement_rev += 'A'\n",
    "        elif(rev_str[i]=='C'):\n",
    "            complement_rev += 'G'\n",
    "        elif(rev_str[i]=='G'):\n",
    "            complement_rev += 'C'\n",
    "    \n",
    "    return complement_rev\n",
    "\n",
    "def approximatePattern(pattern, dna, distance):\n",
    "    dna = list(dna)\n",
    "    pattern = list(pattern)\n",
    "    pattern_length = len(pattern)\n",
    "    output = []\n",
    "    \n",
    "    for i in range(len(dna)-pattern_length):\n",
    "        string1 = dna[i:i+pattern_length]\n",
    "        if hammingDistance(string1, pattern) <= distance:\n",
    "            output.append(i)\n",
    "    return output\n",
    "\n",
    "def frequentWordsWithMismatchAndRevComplement(dna, k, d):\n",
    "    x = ['A', 'T', 'G', 'C']\n",
    "    pattern_dict = {p: 0 for p in itertools.product(x, repeat=k)}\n",
    "    \n",
    "    max_occur = 0\n",
    "\n",
    "    for p in pattern_dict.keys():\n",
    "        pattern_dict[p] = len(approximatePattern(p, dna, d))\n",
    "        pattern_dict[p] += len(approximatePattern(reverse_complement(p), dna, d))\n",
    "        if pattern_dict[p] > max_occur:\n",
    "            max_occur = pattern_dict[p]\n",
    "\n",
    "    output = []\n",
    "    for p in pattern_dict.keys():\n",
    "        if pattern_dict[p] == max_occur:\n",
    "            output.append(''.join(p))\n",
    "    return output\n",
    "\n",
    "dna = input()\n",
    "k = int(input())\n",
    "distance = int(input())\n",
    "\n",
    "pattern_list = frequentWordsWithMismatchAndRevComplement(dna, k, distance)\n",
    "answer = ''\n",
    "for i in pattern_list:\n",
    "    answer += (str(i) + ' ')\n",
    "print(answer)"
   ]
  },
  {
   "cell_type": "markdown",
   "metadata": {},
   "source": [
    "# BA1K"
   ]
  },
  {
   "cell_type": "code",
   "execution_count": 19,
   "metadata": {},
   "outputs": [
    {
     "name": "stdout",
     "output_type": "stream",
     "text": [
      "ACGTTGCAT\n",
      "2\n",
      "0 1 0 1 1 0 1 0 0 1 0 1 0 0 1 1 \n"
     ]
    }
   ],
   "source": [
    "def frequencyArray(dna, k):\n",
    "    x = ['A', 'C', 'G', 'T']\n",
    "    pattern_dict = {''.join(p): 0 for p in itertools.product(x, repeat=k)}\n",
    "   \n",
    "    for i in range(len(dna) - k + 1):\n",
    "        p = dna[i: i+k]\n",
    "        pattern_dict[p] += 1\n",
    "    return pattern_dict\n",
    "\n",
    "dna = input()\n",
    "k = int(input())\n",
    "\n",
    "ans = ''\n",
    "f_arr = frequencyArray(dna,k)\n",
    "for p in f_arr.keys():\n",
    "    ans += (str(f_arr[p]) + ' ')\n",
    "print(ans)"
   ]
  },
  {
   "cell_type": "markdown",
   "metadata": {},
   "source": [
    "# BA1L"
   ]
  },
  {
   "cell_type": "code",
   "execution_count": 14,
   "metadata": {},
   "outputs": [
    {
     "name": "stdout",
     "output_type": "stream",
     "text": [
      "TGC\n"
     ]
    },
    {
     "data": {
      "text/plain": [
       "57"
      ]
     },
     "execution_count": 14,
     "metadata": {},
     "output_type": "execute_result"
    }
   ],
   "source": [
    "word_to_num = {'A':0, 'C':1, 'G':2, 'T':3}\n",
    "\n",
    "def patternToNumber(pattern):\n",
    "    \n",
    "    if not pattern:\n",
    "        return 0\n",
    "    \n",
    "    return 4 * patternToNumber(pattern[:-1]) + word_to_num[pattern[-1]]    \n",
    "    \n",
    "\n",
    "pattern = input()\n",
    "patternToNumber(pattern)"
   ]
  },
  {
   "cell_type": "markdown",
   "metadata": {},
   "source": [
    "# BA1M"
   ]
  },
  {
   "cell_type": "code",
   "execution_count": 17,
   "metadata": {},
   "outputs": [
    {
     "name": "stdout",
     "output_type": "stream",
     "text": [
      "6207\n",
      "10\n",
      "AAACGAATTT\n"
     ]
    }
   ],
   "source": [
    "num_to_word = {0:'A', 1:'C', 2:'G', 3:'T'}\n",
    "\n",
    "def numberToPattern(index, k):\n",
    "    \n",
    "    if k == 1:\n",
    "        return num_to_word[index]\n",
    "    \n",
    "    prev_index = index // 4\n",
    "    r = index % 4\n",
    "    \n",
    "    return numberToPattern(prev_index, k-1) + num_to_word[r]\n",
    "\n",
    "number = int(input())\n",
    "k = int(input())\n",
    "\n",
    "print(numberToPattern(number, k))\n"
   ]
  },
  {
   "cell_type": "markdown",
   "metadata": {},
   "source": [
    "# BA1N"
   ]
  },
  {
   "cell_type": "code",
   "execution_count": 29,
   "metadata": {},
   "outputs": [
    {
     "name": "stdout",
     "output_type": "stream",
     "text": [
      "ACG\n",
      "1\n",
      "CCG\n",
      "TCG\n",
      "GCG\n",
      "ACC\n",
      "ACT\n",
      "ACG\n",
      "ACA\n",
      "ATG\n",
      "AGG\n",
      "AAG\n",
      "\n"
     ]
    }
   ],
   "source": [
    "def hammingDistance(string1, string2):\n",
    "    distance = 0\n",
    "    for i in range(len(string1)):\n",
    "        if string1[i] != string2[i]:\n",
    "            distance+=1\n",
    "    return distance\n",
    "\n",
    "def dNeighbours(string, distance):\n",
    "    string = list(string)\n",
    "    string_length = len(string)\n",
    "    output = []\n",
    "    \n",
    "    x = ['C', 'T', 'G', 'A']\n",
    "    pattern_dict = {''.join(p): 0 for p in itertools.product(x, repeat=string_length)}\n",
    "    \n",
    "    for p in pattern_dict.keys():\n",
    "        if hammingDistance(string, p) <= distance:\n",
    "            output.append(p)\n",
    "    return output\n",
    "\n",
    "string = input()\n",
    "d = int(input())\n",
    "\n",
    "\n",
    "dNeighbour_list = dNeighbours(string,d)    \n",
    "\n",
    "ans = ''\n",
    "for i in dNeighbour_list:\n",
    "    ans += (i+'\\n')\n",
    "print(ans)"
   ]
  },
  {
   "cell_type": "code",
   "execution_count": null,
   "metadata": {},
   "outputs": [],
   "source": []
  }
 ],
 "metadata": {
  "kernelspec": {
   "display_name": "Python [conda env:anaconda3]",
   "language": "python",
   "name": "conda-env-anaconda3-py"
  },
  "language_info": {
   "codemirror_mode": {
    "name": "ipython",
    "version": 3
   },
   "file_extension": ".py",
   "mimetype": "text/x-python",
   "name": "python",
   "nbconvert_exporter": "python",
   "pygments_lexer": "ipython3",
   "version": "3.6.4"
  }
 },
 "nbformat": 4,
 "nbformat_minor": 2
}
