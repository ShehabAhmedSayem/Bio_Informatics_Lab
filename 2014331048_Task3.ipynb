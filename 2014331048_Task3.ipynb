{
 "cells": [
  {
   "cell_type": "markdown",
   "metadata": {},
   "source": [
    "# Subtask 1"
   ]
  },
  {
   "cell_type": "code",
   "execution_count": 1,
   "metadata": {},
   "outputs": [
    {
     "name": "stdout",
     "output_type": "stream",
     "text": [
      "AATGT\n",
      "GAAGA\n",
      "CGACA\n"
     ]
    }
   ],
   "source": [
    "s = \"CGGACTCGACAGATGTGAAGAAATGTGAAGACTGAGTGAAGAGAAGAGGAAACACGACACGACATTGCGACATAATGTACGAATGTAATGTGCCTATGGC\"\n",
    "k = 5\n",
    "L = 75\n",
    "t = 4\n",
    "ans = []\n",
    "\n",
    "def find_substring_occurences(s, sub):\n",
    "    count = 0 \n",
    "    for i in range(len(s)-len(sub)+1):\n",
    "        if(s[i:i+len(sub)] == sub):\n",
    "            count+=1\n",
    "    return count\n",
    "\n",
    "\n",
    "for step in range((len(s)-L+1)):\n",
    "    s_temp = s[step:step+L]\n",
    "    for step_inner in range((L-k+1)):\n",
    "        sub = s_temp[step_inner:step_inner+k]\n",
    "        if find_substring_occurences(s_temp, sub) >= t:\n",
    "            ans.append(sub)\n",
    "\n",
    "ans = set(ans)\n",
    "\n",
    "for i in ans:\n",
    "    print(i)"
   ]
  },
  {
   "cell_type": "markdown",
   "metadata": {},
   "source": [
    "# Subtask 2"
   ]
  },
  {
   "cell_type": "code",
   "execution_count": 2,
   "metadata": {},
   "outputs": [
    {
     "name": "stdout",
     "output_type": "stream",
     "text": [
      "53\n",
      "97\n"
     ]
    }
   ],
   "source": [
    "s = \"CCTATCGGTGGATTAGCATGTCCCTGTACGTTTCGCCGCGAACTAGTTCACACGGCTTGATGGCAAATGGTTTTTCCGGCGACCGTAATCGTCCACCGAG\"\n",
    "min_pos = []\n",
    "min_value = len(s)+1\n",
    "count = 0\n",
    "for i in s:\n",
    "    if i == 'C':\n",
    "        count-=1\n",
    "    elif i =='G':\n",
    "        count+=1\n",
    "    if count < min_value:\n",
    "        min_value = count\n",
    "    min_pos.append(count)\n",
    "\n",
    "#print(min_pos)\n",
    "for i in range(len(s)):\n",
    "    if min_pos[i] == min_value:\n",
    "        print(i+1)"
   ]
  },
  {
   "cell_type": "markdown",
   "metadata": {},
   "source": [
    "# Subtask 3"
   ]
  },
  {
   "cell_type": "code",
   "execution_count": 3,
   "metadata": {},
   "outputs": [
    {
     "name": "stdout",
     "output_type": "stream",
     "text": [
      "score : 30\n",
      "Consensus(Motifs) : TCGGGGATTTCC\n"
     ]
    }
   ],
   "source": [
    "import operator\n",
    "t = 10\n",
    "k = 12\n",
    "list_s = [\"TCGGGGGTTTTT\", \n",
    "          \"CCGGTGACTTAC\",\n",
    "          \"ACGGGGATTTTC\",\n",
    "          \"TTGGGGACTTTT\",\n",
    "          \"AAGGGGACTTCC\",\n",
    "          \"TTGGGGACTTCC\",\n",
    "          \"TCGGGGATTCAT\",\n",
    "          \"TCGGGGATTCCT\",\n",
    "          \"TAGGGGAACTAC\",\n",
    "          \"TCGGGTATAACC\"]\n",
    "\n",
    "consensus = []\n",
    "score = 0\n",
    "\n",
    "for i in range(k):\n",
    "    #print(i)\n",
    "    frequency = dict()\n",
    "    max_freq = 0\n",
    "    \n",
    "    for s in list_s:\n",
    "        if not s[i] in frequency:\n",
    "            frequency[s[i]] = 1\n",
    "        else:\n",
    "            frequency[s[i]] += 1\n",
    "        if frequency[s[i]] > max_freq:\n",
    "            max_freq = frequency[s[i]]\n",
    "            max_freq_char = s[i]\n",
    "            \n",
    "    #print(frequency)\n",
    "    consensus.append(max_freq_char)\n",
    "    score += (t - max_freq)\n",
    "\n",
    "print(\"score : \" + str(score))\n",
    "ans = ''.join(consensus)\n",
    "print(\"Consensus(Motifs) : \" + ans)\n"
   ]
  },
  {
   "cell_type": "markdown",
   "metadata": {},
   "source": [
    "# Subtask 4"
   ]
  },
  {
   "cell_type": "code",
   "execution_count": 4,
   "metadata": {},
   "outputs": [
    {
     "name": "stdout",
     "output_type": "stream",
     "text": [
      "A : [0.4, 0.2, 0.0, 0.2, 0.0, 0.0]\n",
      "C : [0.2, 0.6, 0.0, 0.0, 0.2, 0.0]\n",
      "G : [0.0, 0.0, 0.8, 0.8, 0.6, 1.0]\n",
      "T : [0.4, 0.2, 0.2, 0.0, 0.2, 0.0]\n"
     ]
    }
   ],
   "source": [
    "t = 5\n",
    "k = 6\n",
    "list_s = [\"TCGGGG\",\n",
    "          \"CCGGTG\",\n",
    "          \"ACGGGG\",\n",
    "          \"TTGGGG\",\n",
    "          \"AATACG\"]\n",
    "\n",
    "ans = {'A':[], 'C':[], 'G':[] ,'T':[]}\n",
    "score = 0\n",
    "\n",
    "for i in range(k):\n",
    "    #print(i)\n",
    "    probability = {'A':0.0, 'C':0.0, 'T':0.0, 'G':0.0}\n",
    "    \n",
    "\n",
    "    for l in list_s:\n",
    "        if l[i] == 'A':\n",
    "            probability['A'] += 1.0\n",
    "        elif l[i] == 'C':\n",
    "            probability['C'] += 1.0\n",
    "        elif l[i] == 'T':\n",
    "            probability['T'] += 1.0\n",
    "        elif l[i] == 'G':\n",
    "            probability['G'] += 1.0\n",
    "\n",
    "    for j in probability.keys():\n",
    "        probability[j] /= float(t)\n",
    "        \n",
    "    ans['A'].append(probability['A'])\n",
    "    ans['C'].append(probability['C'])\n",
    "    ans['G'].append(probability['G'])\n",
    "    ans['T'].append(probability['T'])\n",
    "    \n",
    "for k, v in ans.items():\n",
    "    print(k + \" : \" + str(v))"
   ]
  },
  {
   "cell_type": "markdown",
   "metadata": {},
   "source": [
    "# Subtask 5"
   ]
  },
  {
   "cell_type": "code",
   "execution_count": 2,
   "metadata": {},
   "outputs": [
    {
     "name": "stdout",
     "output_type": "stream",
     "text": [
      "CCGAG\n"
     ]
    }
   ],
   "source": [
    "s = \"ACCTGTTTATTGCCTAAGTTCCGAACAAACCCAATATAGCCCGAGGGCCT\"\n",
    "k = 5\n",
    "probabilities = [[0.2, 0.2, 0.3, 0.2, 0.3],\n",
    "                 [0.4, 0.3, 0.1, 0.5, 0.1],\n",
    "                 [0.3, 0.3, 0.5, 0.2, 0.4],\n",
    "                 [0.1, 0.2, 0.1, 0.1, 0.2]]\n",
    "\n",
    "max_prob = 0.0\n",
    "profile_most = s[0: k]\n",
    "\n",
    "for i in range(len(s) - k + 1):\n",
    "    sub = s[i: i + k]\n",
    "    prob = 1\n",
    "    for j in range(k):\n",
    "        if sub[j] == 'A':\n",
    "            prob *= probabilities[0][j]\n",
    "        elif sub[j] == 'C':\n",
    "            prob *= probabilities[1][j]\n",
    "        elif sub[j] == 'G':\n",
    "            prob *= probabilities[2][j]\n",
    "        elif sub[j] == 'T':\n",
    "            prob *= probabilities[3][j]\n",
    "            \n",
    "    if prob > max_prob:\n",
    "        max_prob = prob\n",
    "        profile_most = sub\n",
    "\n",
    "print(profile_most)\n"
   ]
  },
  {
   "cell_type": "markdown",
   "metadata": {},
   "source": [
    "# Subtask 6"
   ]
  },
  {
   "cell_type": "code",
   "execution_count": 6,
   "metadata": {},
   "outputs": [
    {
     "name": "stdout",
     "output_type": "stream",
     "text": [
      "5\n"
     ]
    }
   ],
   "source": [
    "def hammingDistance(string1, string2):\n",
    "    distance = 0\n",
    "    for i in range(len(string1)):\n",
    "        if string1[i] != string2[i]:\n",
    "            distance+=1\n",
    "    return distance\n",
    "\n",
    "pattern = \"AAA\"\n",
    "s_list = [\"TTACCTTAAC\",\n",
    "          \"GATATCTGTC\",\n",
    "          \"ACGGCGTTCG\",\n",
    "          \"CCCTAAAGAG\",\n",
    "          \"CGTCAGAGGT\"]\n",
    "\n",
    "k = len(pattern)\n",
    "distant = 0\n",
    "for s in s_list:\n",
    "    hamming_dist = k + 1\n",
    "    \n",
    "    for i in range(len(s) - k + 1):\n",
    "        sub = s[i: i + k]\n",
    "        temp_dist = hammingDistance(sub,pattern)\n",
    "        if temp_dist < hamming_dist:\n",
    "            hamming_dist = temp_dist\n",
    "            \n",
    "    distant += hamming_dist\n",
    "    \n",
    "print(distant)"
   ]
  },
  {
   "cell_type": "code",
   "execution_count": null,
   "metadata": {},
   "outputs": [],
   "source": []
  }
 ],
 "metadata": {
  "kernelspec": {
   "display_name": "Python [conda env:anaconda3]",
   "language": "python",
   "name": "conda-env-anaconda3-py"
  },
  "language_info": {
   "codemirror_mode": {
    "name": "ipython",
    "version": 3
   },
   "file_extension": ".py",
   "mimetype": "text/x-python",
   "name": "python",
   "nbconvert_exporter": "python",
   "pygments_lexer": "ipython3",
   "version": "3.6.4"
  }
 },
 "nbformat": 4,
 "nbformat_minor": 2
}
